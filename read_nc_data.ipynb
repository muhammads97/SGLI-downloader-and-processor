{
 "cells": [
  {
   "cell_type": "code",
   "execution_count": 2,
   "metadata": {},
   "outputs": [],
   "source": [
    "import netCDF4 as nc"
   ]
  },
  {
   "cell_type": "code",
   "execution_count": 4,
   "metadata": {},
   "outputs": [],
   "source": [
    "ds = nc.Dataset(\"../../shared/Data/SGLI/seadas_processed/GC1SG1_201804191052U24309_3821.nc\")"
   ]
  },
  {
   "cell_type": "code",
   "execution_count": 13,
   "metadata": {},
   "outputs": [
    {
     "data": {
      "text/plain": [
       "<class 'netCDF4._netCDF4.Variable'>\n",
       "float32 latitude(number_of_lines, pixel_control_points)\n",
       "    long_name: Latitude\n",
       "    units: degrees_north\n",
       "    standard_name: latitude\n",
       "    _FillValue: -999.0\n",
       "    valid_min: -90.0\n",
       "    valid_max: 90.0\n",
       "path = /navigation_data\n",
       "unlimited dimensions: \n",
       "current shape = (401, 401)\n",
       "filling on"
      ]
     },
     "execution_count": 13,
     "metadata": {},
     "output_type": "execute_result"
    }
   ],
   "source": [
    "ds[\"navigation_data\"].variables[\"latitude\"]"
   ]
  },
  {
   "cell_type": "code",
   "execution_count": 1,
   "metadata": {},
   "outputs": [],
   "source": [
    "from l1_processor_ocsmart import ProcessOCSMART"
   ]
  },
  {
   "cell_type": "code",
   "execution_count": 5,
   "metadata": {},
   "outputs": [],
   "source": [
    "p = ProcessOCSMART(\"/home/shared/Data/SGLI/sgli-lvl1/\", \"/home/shared/Data/SGLI/ocsmart_processed/\", \"/home/shared/ocsmart/Python_Linux/\", \"/home/muhammad/process_sgli/l1b\", \"/home/muhammad/process_sgli/geo\")"
   ]
  },
  {
   "cell_type": "code",
   "execution_count": 7,
   "metadata": {},
   "outputs": [],
   "source": [
    "p.get_list_of_files()\n",
    "p.prepare_current()"
   ]
  },
  {
   "cell_type": "code",
   "execution_count": 4,
   "metadata": {},
   "outputs": [],
   "source": [
    "p.clear_temp()"
   ]
  },
  {
   "cell_type": "code",
   "execution_count": null,
   "metadata": {},
   "outputs": [],
   "source": []
  }
 ],
 "metadata": {
  "kernelspec": {
   "display_name": "tensorflow",
   "language": "python",
   "name": "python3"
  },
  "language_info": {
   "codemirror_mode": {
    "name": "ipython",
    "version": 3
   },
   "file_extension": ".py",
   "mimetype": "text/x-python",
   "name": "python",
   "nbconvert_exporter": "python",
   "pygments_lexer": "ipython3",
   "version": "3.11.2"
  },
  "orig_nbformat": 4,
  "vscode": {
   "interpreter": {
    "hash": "49e9be40cc9a5383128402683213e1baba42501d7feb69bcf2cf824ed7bfff47"
   }
  }
 },
 "nbformat": 4,
 "nbformat_minor": 2
}
