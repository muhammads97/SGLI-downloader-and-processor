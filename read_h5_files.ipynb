{
 "cells": [
  {
   "cell_type": "code",
   "execution_count": 24,
   "metadata": {},
   "outputs": [],
   "source": [
    "import h5py\n",
    "import numpy as np"
   ]
  },
  {
   "cell_type": "code",
   "execution_count": 25,
   "metadata": {},
   "outputs": [],
   "source": [
    "def DN_to_Reflectance_L2( h5_file, prod_name):\n",
    "        # Get Rrs data\n",
    "        real_prod_name = prod_name.replace('Rrs', 'NWLR')\n",
    "        dset = h5_file['Image_data/' + real_prod_name]\n",
    "\n",
    "        # Validate\n",
    "        data = dset[:].astype(np.float32)\n",
    "        if 'Error_DN' in dset.attrs:\n",
    "            data[data == dset.attrs['Error_DN'][0]] = np.NaN\n",
    "        with np.warnings.catch_warnings():\n",
    "            np.warnings.filterwarnings(\n",
    "                'ignore', r'invalid value encountered in (greater|less)')\n",
    "            if 'Maximum_valid_DN' in dset.attrs:\n",
    "                data[data > dset.attrs['Maximum_valid_DN'][0]] = np.NaN\n",
    "            if 'Minimum_valid_DN' in dset.attrs:\n",
    "                data[data < dset.attrs['Minimum_valid_DN'][0]] = np.NaN\n",
    "\n",
    "        # Convert DN to physical value\n",
    "        Slope = dset.attrs['Rrs_slope'][0]\n",
    "        Offset = dset.attrs['Rrs_offset'][0]\n",
    "        data = data * Slope + Offset\n",
    "        print(\"Band: \", prod_name, \" >> Slope= \", Slope, \" Offset= \", Offset)\n",
    "\n",
    "        return data\n"
   ]
  },
  {
   "cell_type": "code",
   "execution_count": 16,
   "metadata": {},
   "outputs": [],
   "source": [
    "f = h5py.File(\"/home/shared/Data/SGLI/sgli-lvl2/GC1SG1_201801100113D04710_L2SG_NWLRQ_3000.h5\", \"r\")"
   ]
  },
  {
   "cell_type": "code",
   "execution_count": 31,
   "metadata": {},
   "outputs": [
    {
     "name": "stdout",
     "output_type": "stream",
     "text": [
      "Band:  Rrs_443  >> Slope=  6.5847746e-07  Offset=  -0.00526782\n"
     ]
    }
   ],
   "source": [
    "r = DN_to_Reflectance_L2(f, \"Rrs_443\")"
   ]
  },
  {
   "cell_type": "code",
   "execution_count": 40,
   "metadata": {},
   "outputs": [
    {
     "data": {
      "text/plain": [
       "<KeysViewHDF5 ['Line_tai93', 'NWLR_380', 'NWLR_412', 'NWLR_443', 'NWLR_490', 'NWLR_530', 'NWLR_565', 'NWLR_670', 'PAR', 'QA_flag', 'TAUA_670', 'TAUA_865']>"
      ]
     },
     "execution_count": 40,
     "metadata": {},
     "output_type": "execute_result"
    }
   ],
   "source": [
    "f[\"Image_data\"].keys()"
   ]
  },
  {
   "cell_type": "code",
   "execution_count": 1,
   "metadata": {},
   "outputs": [],
   "source": [
    "from l1_processor_ocsmart import ProcessOCSMART"
   ]
  },
  {
   "cell_type": "code",
   "execution_count": 5,
   "metadata": {},
   "outputs": [],
   "source": [
    "p = ProcessOCSMART(\"/home/shared/Data/SGLI/sgli-lvl1/\", \"/home/shared/Data/SGLI/ocsmart_processed/\", \"/home/shared/ocsmart/Python_Linux/\", \"/home/muhammad/process_sgli/l1b\", \"/home/muhammad/process_sgli/geo\")"
   ]
  },
  {
   "cell_type": "code",
   "execution_count": 7,
   "metadata": {},
   "outputs": [],
   "source": [
    "p.get_list_of_files()\n",
    "p.prepare_current()"
   ]
  },
  {
   "cell_type": "code",
   "execution_count": 4,
   "metadata": {},
   "outputs": [],
   "source": [
    "p.clear_temp()"
   ]
  },
  {
   "cell_type": "code",
   "execution_count": null,
   "metadata": {},
   "outputs": [],
   "source": []
  }
 ],
 "metadata": {
  "kernelspec": {
   "display_name": "tensorflow",
   "language": "python",
   "name": "python3"
  },
  "language_info": {
   "codemirror_mode": {
    "name": "ipython",
    "version": 3
   },
   "file_extension": ".py",
   "mimetype": "text/x-python",
   "name": "python",
   "nbconvert_exporter": "python",
   "pygments_lexer": "ipython3",
   "version": "3.11.2"
  },
  "orig_nbformat": 4,
  "vscode": {
   "interpreter": {
    "hash": "49e9be40cc9a5383128402683213e1baba42501d7feb69bcf2cf824ed7bfff47"
   }
  }
 },
 "nbformat": 4,
 "nbformat_minor": 2
}
